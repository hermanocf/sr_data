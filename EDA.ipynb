{
 "cells": [
  {
   "cell_type": "code",
   "execution_count": 3,
   "metadata": {},
   "outputs": [],
   "source": [
    "import pandas as pd\n",
    "import matplotlib as plt\n",
    "import numpy as np\n",
    "import seaborn as sns\n",
    "\n",
    "from pandas_profiling import ProfileReport"
   ]
  },
  {
   "cell_type": "code",
   "execution_count": 41,
   "metadata": {},
   "outputs": [
    {
     "name": "stdout",
     "output_type": "stream",
     "text": [
      "            hour_stump miner_model  datacenter_id  lancium_box_id  \\\n",
      "0         10/1/21 0:00         NaN              1             NaN   \n",
      "1         10/1/21 0:00        A851              1             NaN   \n",
      "2         10/1/21 0:00        A851              1             NaN   \n",
      "3         10/1/21 0:00        M30S              1             NaN   \n",
      "4         10/1/21 0:00        M30S              1             NaN   \n",
      "...                ...         ...            ...             ...   \n",
      "450433  10/31/21 23:55         NaN              5             NaN   \n",
      "450434  10/31/21 23:55         S19              6             NaN   \n",
      "450435  10/31/21 23:55         S19              6             NaN   \n",
      "450436  10/31/21 23:55         NaN              6             NaN   \n",
      "450437  10/31/21 23:55         NaN              6             NaN   \n",
      "\n",
      "        datacenter_room_id  power_meter_id     avg_value              _unit  \n",
      "0                      NaN             NaN  4.058000e+01                USD  \n",
      "1                      1.0             NaN  2.678468e+06  gigahash / second  \n",
      "2                      1.0             NaN  1.213333e+02              miner  \n",
      "3                      1.0             NaN  1.427675e+07  gigahash / second  \n",
      "4                      1.0             NaN  5.166667e+01              miner  \n",
      "...                    ...             ...           ...                ...  \n",
      "450433                 NaN         74059.0  5.439950e+01           megawatt  \n",
      "450434                 7.0             NaN  4.946572e+07  gigahash / second  \n",
      "450435                 7.0             NaN  1.056667e+02              miner  \n",
      "450436                 NaN        324707.0  5.999610e+01              hertz  \n",
      "450437                 NaN        324707.0  1.959300e+03           kilowatt  \n",
      "\n",
      "[450438 rows x 8 columns]\n",
      "_unit               USD  degree_Fahrenheit  gigahash / second      hertz  \\\n",
      "hour_stump                                                                 \n",
      "10/1/21 0:00  32.759444             79.840       6.880193e+06  59.666540   \n",
      "10/1/21 0:05  40.405000                NaN       6.880212e+06  59.636182   \n",
      "10/1/21 0:10  42.010000                NaN       6.884665e+06  59.968875   \n",
      "10/1/21 0:15  41.910000             79.470       6.879984e+06  59.681081   \n",
      "10/1/21 0:20  41.130000                NaN       6.881752e+06  60.013620   \n",
      "...                 ...                ...                ...        ...   \n",
      "10/9/21 9:35  25.160000             66.065       1.623489e+08  60.001181   \n",
      "10/9/21 9:40  31.747500             65.895       1.913901e+08  59.983638   \n",
      "10/9/21 9:45  38.265000             67.145       1.617036e+08  59.815491   \n",
      "10/9/21 9:50  35.407500             65.920       1.618960e+08  59.916188   \n",
      "10/9/21 9:55  31.340000             65.875       1.914797e+08  59.997767   \n",
      "\n",
      "_unit             kilowatt   megawatt        miner  percent         watt  \n",
      "hour_stump                                                                \n",
      "10/1/21 0:00   4148.976695  13.930758    94.111111     80.0  10600000.00  \n",
      "10/1/21 0:05   4152.356802   0.793165    94.666667      NaN  10625000.00  \n",
      "10/1/21 0:10   4148.256547   0.791719    95.000000      NaN  10700000.00  \n",
      "10/1/21 0:15   4163.250020   0.791692    94.222222     81.0  10700000.00  \n",
      "10/1/21 0:20   4166.151630   0.792927    94.555556      NaN  10700000.00  \n",
      "...                    ...        ...          ...      ...          ...  \n",
      "10/9/21 9:35  17128.583198  37.016006   613.068750     92.0  10400000.00  \n",
      "10/9/21 9:40  17112.613014  37.016133  1637.394113     92.0  10458333.33  \n",
      "10/9/21 9:45  17113.163160  37.029088   338.892105     89.0  10500000.00  \n",
      "10/9/21 9:50  17119.058041  37.033417   634.155952     92.0  10441666.67  \n",
      "10/9/21 9:55  17117.009253  37.022385  1906.469697     92.0  10400000.00  \n",
      "\n",
      "[8923 rows x 9 columns]\n"
     ]
    }
   ],
   "source": [
    "df = pd.read_csv('2021-Oct-Indicator-values.csv')\n",
    "print(df)\n",
    "\n",
    "df2=df.pivot_table(index='hour_stump', columns='_unit', values='avg_value')\n",
    "df3=df.pivot_table(index='hour_stump', columns='miner_model', values='avg_value')\n",
    "# df2=df.unstack()\n",
    "print(df2)\n",
    "\n"
   ]
  },
  {
   "cell_type": "code",
   "execution_count": 15,
   "metadata": {},
   "outputs": [],
   "source": [
    "df = pd.read_csv('_2021_datacenter_5_site_nov_indicators__202205181159.csv', infer_datetime_format=True)"
   ]
  },
  {
   "cell_type": "code",
   "execution_count": null,
   "metadata": {},
   "outputs": [],
   "source": [
    "df1 = df.groupby(['hour_stump', 'power_meter_id']).sum()\n",
    "\n",
    "result = pd.pivot_table(df, values='avg_value', index='hour_stump', aggfunc={'avg_value': np.sum})\n",
    "\n",
    "# result = pd.concat([df, df1], axis=0)\n",
    "# result1 = pd.merge(df, df1, how='left', on='hour_stump')\n",
    "\n",
    "# df2=df.pivot_table(index='hour_stump', columns=['unit'], values='avg_value', aggfunc=np.sum)"
   ]
  },
  {
   "cell_type": "code",
   "execution_count": null,
   "metadata": {},
   "outputs": [],
   "source": [
    "report_2 = ProfileReport(df2)\n",
    "report_2"
   ]
  },
  {
   "cell_type": "code",
   "execution_count": null,
   "metadata": {},
   "outputs": [],
   "source": [
    "report_3 = ProfileReport(df3)\n",
    "report_3"
   ]
  },
  {
   "cell_type": "code",
   "execution_count": 61,
   "metadata": {},
   "outputs": [],
   "source": [
    "df2=df.pivot_table(index=['hour_stump', 'datacenter_id'], columns='_unit', values='avg_value')\n",
    "\n",
    "# sns.set_theme(style='darkgrid')\n",
    "\n",
    "# sns.lineplot(x='hour_stump', y='degree_Fahrenheit',\n",
    "#             data=df2)"
   ]
  },
  {
   "cell_type": "code",
   "execution_count": 62,
   "metadata": {},
   "outputs": [],
   "source": [
    "datacenter_1=df2.query('datacenter_id == 1')"
   ]
  },
  {
   "cell_type": "code",
   "execution_count": 5,
   "metadata": {},
   "outputs": [],
   "source": [
    "df = pd.read_csv('2021_datacenter_5_site_oct_indicators_pivot__202205182248.csv', infer_datetime_format=True)\n",
    "df1 = pd.read_csv('2021_datacenter_5_site_nov_indicators_pivot__202205182248.csv', infer_datetime_format=True)\n",
    "df2 = pd.read_csv('2021_datacenter_5_dcr_2_s9_oct_indicators__202205182248.csv', infer_datetime_format=True)\n",
    "df3 = pd.read_csv('2021_datacenter_5_dcr_2_s9_nov_indicators__202205182248.csv', infer_datetime_format=True)\n"
   ]
  },
  {
   "cell_type": "code",
   "execution_count": 6,
   "metadata": {},
   "outputs": [],
   "source": [
    "dfoct=pd.merge(df, df2, on=\"hour_stump\")\n"
   ]
  },
  {
   "cell_type": "code",
   "execution_count": 7,
   "metadata": {},
   "outputs": [],
   "source": [
    "dfnov=pd.merge(df1, df3, on='hour_stump')"
   ]
  },
  {
   "cell_type": "code",
   "execution_count": null,
   "metadata": {},
   "outputs": [],
   "source": [
    "report_oct = ProfileReport(dfoct)\n",
    "report_oct"
   ]
  },
  {
   "cell_type": "code",
   "execution_count": null,
   "metadata": {},
   "outputs": [],
   "source": [
    "report_nov = ProfileReport(dfnov)\n",
    "report_nov"
   ]
  },
  {
   "cell_type": "code",
   "execution_count": 8,
   "metadata": {},
   "outputs": [
    {
     "data": {
      "text/plain": [
       "Index(['hour_stump', 'datacenter_id_x', 'pm_26973_freq', 'pm_26973_mw',\n",
       "       'pm_26973_kw', 'pm_26974_freq', 'pm_26974_mw', 'pm_26974_kw',\n",
       "       'pm_74059_freq', 'pm_74059_mw', 'pm_74059_kw', 'usd', 'temp_f',\n",
       "       'rel_humidity', 'datacenter_id_y', 'datacenter_room_id', 'miner_model',\n",
       "       'gigahash/second', 'miner_count'],\n",
       "      dtype='object')"
      ]
     },
     "execution_count": 8,
     "metadata": {},
     "output_type": "execute_result"
    }
   ],
   "source": [
    "dfoct.columns"
   ]
  },
  {
   "cell_type": "code",
   "execution_count": 9,
   "metadata": {},
   "outputs": [
    {
     "data": {
      "text/plain": [
       "Index(['hour_stump', 'datacenter_id_x', 'pm_26973_freq', 'pm_26973_mw',\n",
       "       'pm_26973_kw', 'pm_26974_freq', 'pm_26974_mw', 'pm_26974_kw',\n",
       "       'pm_74059_freq', 'pm_74059_mw', 'pm_74059_kw', 'usd', 'temp_f',\n",
       "       'rel_humidity', 'datacenter_id_y', 'datacenter_room_id', 'miner_model',\n",
       "       'gigahash/second', 'miner_count', 'Power'],\n",
       "      dtype='object')"
      ]
     },
     "execution_count": 9,
     "metadata": {},
     "output_type": "execute_result"
    }
   ],
   "source": [
    "dfoct['Power'] = df['pm_26973_mw'] + df['pm_26974_mw'] + df['pm_74059_mw']\n",
    "dfoct.columns"
   ]
  },
  {
   "cell_type": "code",
   "execution_count": 10,
   "metadata": {},
   "outputs": [
    {
     "data": {
      "text/plain": [
       "Index(['hour_stump', 'datacenter_id_x', 'pm_26973_freq', 'pm_26973_mw',\n",
       "       'pm_26973_kw', 'pm_26974_freq', 'pm_26974_mw', 'pm_26974_kw',\n",
       "       'pm_74059_freq', 'pm_74059_mw', 'pm_74059_kw', 'usd', 'temp_f',\n",
       "       'rel_humidity', 'datacenter_id_y', 'datacenter_room_id', 'miner_model',\n",
       "       'gigahash/second', 'miner_count'],\n",
       "      dtype='object')"
      ]
     },
     "execution_count": 10,
     "metadata": {},
     "output_type": "execute_result"
    }
   ],
   "source": [
    "dfnov.columns"
   ]
  },
  {
   "cell_type": "code",
   "execution_count": 11,
   "metadata": {},
   "outputs": [
    {
     "data": {
      "text/plain": [
       "Index(['hour_stump', 'datacenter_id_x', 'pm_26973_freq', 'pm_26973_mw',\n",
       "       'pm_26973_kw', 'pm_26974_freq', 'pm_26974_mw', 'pm_26974_kw',\n",
       "       'pm_74059_freq', 'pm_74059_mw', 'pm_74059_kw', 'usd', 'temp_f',\n",
       "       'rel_humidity', 'datacenter_id_y', 'datacenter_room_id', 'miner_model',\n",
       "       'gigahash/second', 'miner_count', 'Power'],\n",
       "      dtype='object')"
      ]
     },
     "execution_count": 11,
     "metadata": {},
     "output_type": "execute_result"
    }
   ],
   "source": [
    "dfnov['Power'] = df['pm_26973_mw'] + df['pm_26974_mw'] + df['pm_74059_mw']\n",
    "dfnov.columns"
   ]
  },
  {
   "cell_type": "code",
   "execution_count": 12,
   "metadata": {},
   "outputs": [],
   "source": [
    "dfoct_new = dfoct.drop(['pm_26973_freq', 'pm_26973_mw',\n",
    "       'pm_26973_kw', 'pm_26974_freq', 'pm_26974_mw', 'pm_26974_kw',\n",
    "       'pm_74059_freq', 'pm_74059_mw', 'pm_74059_kw', 'temp_f',\n",
    "       'rel_humidity', 'datacenter_id_y'], axis=1)"
   ]
  },
  {
   "cell_type": "code",
   "execution_count": 13,
   "metadata": {},
   "outputs": [],
   "source": [
    "dfnov_new = dfnov.drop(['pm_26973_freq', 'pm_26973_mw',\n",
    "       'pm_26973_kw', 'pm_26974_freq', 'pm_26974_mw', 'pm_26974_kw',\n",
    "       'pm_74059_freq', 'pm_74059_mw', 'pm_74059_kw', 'temp_f',\n",
    "       'rel_humidity', 'datacenter_id_y'], axis=1)"
   ]
  },
  {
   "cell_type": "code",
   "execution_count": 14,
   "metadata": {},
   "outputs": [],
   "source": [
    "dfoct_newi = dfoct_new.sort_values('hour_stump')\n",
    "dfnov_newi = dfnov_new.sort_values('hour_stump')"
   ]
  },
  {
   "cell_type": "code",
   "execution_count": 23,
   "metadata": {},
   "outputs": [
    {
     "name": "stderr",
     "output_type": "stream",
     "text": [
      "/var/folders/25/1st06df16wj_drlv8cczhqs40000gn/T/ipykernel_69090/2876544971.py:3: FutureWarning: In a future version of pandas all arguments of DataFrame.dropna will be keyword-only.\n",
      "  dfoct_dc5 = dfoct_dc5.dropna(0)\n",
      "/var/folders/25/1st06df16wj_drlv8cczhqs40000gn/T/ipykernel_69090/2876544971.py:4: FutureWarning: In a future version of pandas all arguments of DataFrame.dropna will be keyword-only.\n",
      "  dfnov_dc5 = dfnov_dc5.dropna(0)\n"
     ]
    }
   ],
   "source": [
    "dfoct_dc5 = dfoct_newi.set_index('hour_stump')\n",
    "dfnov_dc5 = dfnov_newi.set_index('hour_stump')\n",
    "dfoct_dc5 = dfoct_dc5.dropna(0)\n",
    "dfnov_dc5 = dfnov_dc5.dropna(0)"
   ]
  },
  {
   "cell_type": "code",
   "execution_count": null,
   "metadata": {},
   "outputs": [],
   "source": [
    "report_oct = ProfileReport(dfoct_dc5)\n",
    "report_oct"
   ]
  },
  {
   "cell_type": "code",
   "execution_count": 17,
   "metadata": {},
   "outputs": [
    {
     "ename": "ImportError",
     "evalue": "cannot import name 'LinearRegression' from 'sklearn' (/Users/hermanoferreira/miniconda3/envs/sr_data/lib/python3.9/site-packages/sklearn/__init__.py)",
     "output_type": "error",
     "traceback": [
      "\u001b[0;31m---------------------------------------------------------------------------\u001b[0m",
      "\u001b[0;31mImportError\u001b[0m                               Traceback (most recent call last)",
      "\u001b[1;32m/Users/hermanoferreira/dev/sr_data/EDA.ipynb Cell 23'\u001b[0m in \u001b[0;36m<cell line: 1>\u001b[0;34m()\u001b[0m\n\u001b[0;32m----> <a href='vscode-notebook-cell:/Users/hermanoferreira/dev/sr_data/EDA.ipynb#ch0000023?line=0'>1</a>\u001b[0m \u001b[39mfrom\u001b[39;00m \u001b[39msklearn\u001b[39;00m \u001b[39mimport\u001b[39;00m linear_model, LinearRegression\n\u001b[1;32m      <a href='vscode-notebook-cell:/Users/hermanoferreira/dev/sr_data/EDA.ipynb#ch0000023?line=1'>2</a>\u001b[0m \u001b[39mfrom\u001b[39;00m \u001b[39msklearn\u001b[39;00m\u001b[39m.\u001b[39;00m\u001b[39mmetrics\u001b[39;00m \u001b[39mimport\u001b[39;00m mean_squared_error, r2_score\n",
      "\u001b[0;31mImportError\u001b[0m: cannot import name 'LinearRegression' from 'sklearn' (/Users/hermanoferreira/miniconda3/envs/sr_data/lib/python3.9/site-packages/sklearn/__init__.py)"
     ]
    }
   ],
   "source": [
    "from sklearn import linear_model\n",
    "from sklearn.metrics import mean_squared_error, r2_score"
   ]
  },
  {
   "cell_type": "code",
   "execution_count": 24,
   "metadata": {},
   "outputs": [],
   "source": [
    "y = dfoct_dc5['Power']\n",
    "x = dfoct_dc5.drop(['datacenter_id_x', 'datacenter_room_id', 'miner_model','Power'], axis=1)"
   ]
  },
  {
   "cell_type": "code",
   "execution_count": 25,
   "metadata": {},
   "outputs": [],
   "source": [
    "from sklearn.model_selection import train_test_split\n",
    "x_train, x_test, y_train, y_test = train_test_split(x, y, test_size = 0.2, shuffle=True)"
   ]
  },
  {
   "cell_type": "code",
   "execution_count": 29,
   "metadata": {},
   "outputs": [
    {
     "name": "stderr",
     "output_type": "stream",
     "text": [
      "/Users/hermanoferreira/miniconda3/envs/sr_data/lib/python3.9/site-packages/sklearn/linear_model/_base.py:141: FutureWarning: 'normalize' was deprecated in version 1.0 and will be removed in 1.2.\n",
      "If you wish to scale the data, use Pipeline with a StandardScaler in a preprocessing stage. To reproduce the previous behavior:\n",
      "\n",
      "from sklearn.pipeline import make_pipeline\n",
      "\n",
      "model = make_pipeline(StandardScaler(with_mean=False), LinearRegression())\n",
      "\n",
      "If you wish to pass a sample_weight parameter, you need to pass it as a fit parameter to each step of the pipeline as follows:\n",
      "\n",
      "kwargs = {s[0] + '__sample_weight': sample_weight for s in model.steps}\n",
      "model.fit(X, y, **kwargs)\n",
      "\n",
      "\n",
      "  warnings.warn(\n"
     ]
    },
    {
     "data": {
      "text/html": [
       "<style>#sk-container-id-2 {color: black;background-color: white;}#sk-container-id-2 pre{padding: 0;}#sk-container-id-2 div.sk-toggleable {background-color: white;}#sk-container-id-2 label.sk-toggleable__label {cursor: pointer;display: block;width: 100%;margin-bottom: 0;padding: 0.3em;box-sizing: border-box;text-align: center;}#sk-container-id-2 label.sk-toggleable__label-arrow:before {content: \"▸\";float: left;margin-right: 0.25em;color: #696969;}#sk-container-id-2 label.sk-toggleable__label-arrow:hover:before {color: black;}#sk-container-id-2 div.sk-estimator:hover label.sk-toggleable__label-arrow:before {color: black;}#sk-container-id-2 div.sk-toggleable__content {max-height: 0;max-width: 0;overflow: hidden;text-align: left;background-color: #f0f8ff;}#sk-container-id-2 div.sk-toggleable__content pre {margin: 0.2em;color: black;border-radius: 0.25em;background-color: #f0f8ff;}#sk-container-id-2 input.sk-toggleable__control:checked~div.sk-toggleable__content {max-height: 200px;max-width: 100%;overflow: auto;}#sk-container-id-2 input.sk-toggleable__control:checked~label.sk-toggleable__label-arrow:before {content: \"▾\";}#sk-container-id-2 div.sk-estimator input.sk-toggleable__control:checked~label.sk-toggleable__label {background-color: #d4ebff;}#sk-container-id-2 div.sk-label input.sk-toggleable__control:checked~label.sk-toggleable__label {background-color: #d4ebff;}#sk-container-id-2 input.sk-hidden--visually {border: 0;clip: rect(1px 1px 1px 1px);clip: rect(1px, 1px, 1px, 1px);height: 1px;margin: -1px;overflow: hidden;padding: 0;position: absolute;width: 1px;}#sk-container-id-2 div.sk-estimator {font-family: monospace;background-color: #f0f8ff;border: 1px dotted black;border-radius: 0.25em;box-sizing: border-box;margin-bottom: 0.5em;}#sk-container-id-2 div.sk-estimator:hover {background-color: #d4ebff;}#sk-container-id-2 div.sk-parallel-item::after {content: \"\";width: 100%;border-bottom: 1px solid gray;flex-grow: 1;}#sk-container-id-2 div.sk-label:hover label.sk-toggleable__label {background-color: #d4ebff;}#sk-container-id-2 div.sk-serial::before {content: \"\";position: absolute;border-left: 1px solid gray;box-sizing: border-box;top: 0;bottom: 0;left: 50%;z-index: 0;}#sk-container-id-2 div.sk-serial {display: flex;flex-direction: column;align-items: center;background-color: white;padding-right: 0.2em;padding-left: 0.2em;position: relative;}#sk-container-id-2 div.sk-item {position: relative;z-index: 1;}#sk-container-id-2 div.sk-parallel {display: flex;align-items: stretch;justify-content: center;background-color: white;position: relative;}#sk-container-id-2 div.sk-item::before, #sk-container-id-2 div.sk-parallel-item::before {content: \"\";position: absolute;border-left: 1px solid gray;box-sizing: border-box;top: 0;bottom: 0;left: 50%;z-index: -1;}#sk-container-id-2 div.sk-parallel-item {display: flex;flex-direction: column;z-index: 1;position: relative;background-color: white;}#sk-container-id-2 div.sk-parallel-item:first-child::after {align-self: flex-end;width: 50%;}#sk-container-id-2 div.sk-parallel-item:last-child::after {align-self: flex-start;width: 50%;}#sk-container-id-2 div.sk-parallel-item:only-child::after {width: 0;}#sk-container-id-2 div.sk-dashed-wrapped {border: 1px dashed gray;margin: 0 0.4em 0.5em 0.4em;box-sizing: border-box;padding-bottom: 0.4em;background-color: white;}#sk-container-id-2 div.sk-label label {font-family: monospace;font-weight: bold;display: inline-block;line-height: 1.2em;}#sk-container-id-2 div.sk-label-container {text-align: center;}#sk-container-id-2 div.sk-container {/* jupyter's `normalize.less` sets `[hidden] { display: none; }` but bootstrap.min.css set `[hidden] { display: none !important; }` so we also need the `!important` here to be able to override the default hidden behavior on the sphinx rendered scikit-learn.org. See: https://github.com/scikit-learn/scikit-learn/issues/21755 */display: inline-block !important;position: relative;}#sk-container-id-2 div.sk-text-repr-fallback {display: none;}</style><div id=\"sk-container-id-2\" class=\"sk-top-container\"><div class=\"sk-text-repr-fallback\"><pre>LinearRegression(normalize=True)</pre><b>In a Jupyter environment, please rerun this cell to show the HTML representation or trust the notebook. <br />On GitHub, the HTML representation is unable to render, please try loading this page with nbviewer.org.</b></div><div class=\"sk-container\" hidden><div class=\"sk-item\"><div class=\"sk-estimator sk-toggleable\"><input class=\"sk-toggleable__control sk-hidden--visually\" id=\"sk-estimator-id-2\" type=\"checkbox\" checked><label for=\"sk-estimator-id-2\" class=\"sk-toggleable__label sk-toggleable__label-arrow\">LinearRegression</label><div class=\"sk-toggleable__content\"><pre>LinearRegression(normalize=True)</pre></div></div></div></div></div>"
      ],
      "text/plain": [
       "LinearRegression(normalize=True)"
      ]
     },
     "execution_count": 29,
     "metadata": {},
     "output_type": "execute_result"
    }
   ],
   "source": [
    "LR = linear_model.LinearRegression(normalize=True)\n",
    "LR.fit(x_train, y_train)"
   ]
  },
  {
   "cell_type": "code",
   "execution_count": 27,
   "metadata": {},
   "outputs": [
    {
     "data": {
      "text/plain": [
       "array([108.24317138, 108.31612195, 108.2041038 , 108.31748365,\n",
       "       108.43185914, 108.26752838, 108.23906749, 108.29465995,\n",
       "       108.36350167, 108.26713545, 108.30456467, 108.31848178,\n",
       "       108.36294317, 108.33269956, 108.27258765, 108.29015749,\n",
       "       108.34876042, 108.27839126, 108.315517  , 108.27603725,\n",
       "       108.30073493, 108.25846679, 108.32095414, 108.19382428,\n",
       "       108.26482227, 108.24002268, 108.27989321, 108.33794523,\n",
       "       108.33508357, 108.28695253, 108.30432905, 108.2260598 ,\n",
       "       108.40794409, 108.24865529, 108.29788946, 108.40149472,\n",
       "       108.33020462, 108.37383166, 108.36733072, 108.28931657,\n",
       "       108.31035148, 108.35207673, 108.23660085, 108.16320088,\n",
       "       108.22811176, 108.190949  , 108.28811845, 108.27805052,\n",
       "       108.26245517, 108.25160801, 108.32621989, 108.28182158,\n",
       "       108.29664404, 108.23717018, 108.22834555, 108.34500301,\n",
       "       108.33512739, 108.32196629, 108.40743307, 108.23956324,\n",
       "       108.27039919, 108.28935729, 108.16557765, 108.3021424 ,\n",
       "       108.26495753, 108.31943334, 108.32588408, 108.28073577,\n",
       "       108.28689935, 108.21935111, 108.26005727, 108.34577111,\n",
       "       108.39348533, 108.30221365, 108.26564609, 108.37897893,\n",
       "       108.31325105, 108.26520689, 108.28295242, 108.35395912,\n",
       "       108.38584628, 108.33311667, 108.27883038, 108.38963658,\n",
       "       108.25368778, 108.3201968 , 108.25399236, 108.22523445,\n",
       "       108.22884448, 108.42170888, 108.29809456, 108.34484107,\n",
       "       108.28866451, 108.32484671, 108.34644555, 108.3178159 ,\n",
       "       108.31547778, 108.28233315, 108.25197443, 108.26810351,\n",
       "       108.32879318, 108.33718714, 108.2503923 , 108.35633487,\n",
       "       108.36766527, 108.26044169, 108.40709798, 108.31083289,\n",
       "       108.26812742, 108.38610876, 108.30938656, 108.29737226,\n",
       "       108.32214706, 108.26709583, 108.29631515, 108.26862423,\n",
       "       108.27034739, 108.41633106, 108.31875541, 108.26746388,\n",
       "       108.39947169, 108.46308111, 108.29964378, 108.32097555,\n",
       "       108.36592592, 108.3203543 , 108.27003035, 108.27453591,\n",
       "       108.27157559, 108.24628504, 108.28616461, 108.16905599,\n",
       "       108.35913398, 108.25730058, 108.27243637, 108.27547736,\n",
       "       108.25955232, 108.23316592, 108.2311669 , 108.31097083,\n",
       "       108.37657786, 108.3848035 , 108.34415547, 108.29111042,\n",
       "       108.34082766, 108.30867065, 108.28215997, 108.27880808,\n",
       "       108.24022057, 108.27035437, 108.25827985, 108.20440617,\n",
       "       108.30818094, 108.38435498, 108.27765517, 108.28769368,\n",
       "       108.32362981, 108.30432452, 108.38865835, 108.29921217,\n",
       "       108.25832061, 108.3297915 , 108.31589544, 108.34626226,\n",
       "       108.3345535 , 108.24422093, 108.27439104, 108.22735836,\n",
       "       108.3382887 , 108.39359635, 108.23468572, 108.34341713,\n",
       "       108.2776195 , 108.30932035, 108.19328753, 108.43622015,\n",
       "       108.14572125, 108.19574122, 108.19650427, 108.26614043,\n",
       "       108.24665347, 108.26112511, 108.2996083 , 108.29610905,\n",
       "       108.26222367, 108.3050716 , 108.22868912, 108.24515988,\n",
       "       108.31057696, 108.27306114, 108.2373434 , 108.16449541,\n",
       "       108.27602288, 108.20172494, 108.30772458, 108.2192323 ,\n",
       "       108.295706  , 108.3932864 , 108.22670861, 108.37339163,\n",
       "       108.33804782, 108.20479538, 108.38698762, 108.20312927,\n",
       "       108.35843129, 108.35173643, 108.39162236, 108.23079115,\n",
       "       108.34853659, 108.315354  , 108.19981588, 108.28246777,\n",
       "       108.38428655, 108.27855875, 108.30425115, 108.45939509,\n",
       "       108.2536962 , 108.25791496, 108.38406865, 108.38887245,\n",
       "       108.41126132, 108.3448945 , 108.26291509, 108.29877375,\n",
       "       108.30721481, 108.26246791, 108.19476501, 108.36651069,\n",
       "       108.28650564, 108.35785683, 108.21210331, 108.30565098,\n",
       "       108.25150292, 108.39174796, 108.19598104, 108.92184062,\n",
       "       108.19464096, 108.32327764, 108.33380365, 108.25148865,\n",
       "       108.30520917, 108.32516253, 108.32660093, 108.29721565,\n",
       "       108.19660435, 108.38232746, 108.37955912, 108.31059758,\n",
       "       108.21055414, 108.29991536, 108.31394447, 108.30363096,\n",
       "       108.40101976, 108.26009065, 108.27241965, 108.21745954,\n",
       "       108.31941706, 108.22651382, 108.33569409, 108.25738025,\n",
       "       108.28132506, 108.38857592, 108.31996422, 108.30409507,\n",
       "       108.23189565, 108.30452089, 108.32395606, 108.39056625,\n",
       "       108.23812205, 108.30185586, 108.28240814, 108.25291423,\n",
       "       108.22314026, 108.25767365, 108.29225704, 108.25861967,\n",
       "       108.29997373, 108.2765809 , 108.32285092, 108.2478135 ,\n",
       "       108.24547852, 108.45973887, 108.32381805, 108.34011562,\n",
       "       108.33538924, 108.28252526, 108.31768779, 108.25262418,\n",
       "       108.33573538, 108.31985989, 108.33081354, 108.22744674,\n",
       "       108.19043282, 108.33478057, 108.08002649, 108.37180258,\n",
       "       108.21490093, 108.19150808, 108.29258716, 108.38651508,\n",
       "       108.4028933 , 108.24367158, 108.24685621, 108.30322005,\n",
       "       108.24397155, 108.38048651, 108.28455058, 108.19253115,\n",
       "       108.27443786, 108.30749102, 108.16503519, 108.25916172,\n",
       "       108.32443232, 108.30557908, 108.38094474, 108.29593673,\n",
       "       108.15075937, 108.40784343, 108.27022149, 108.31046691,\n",
       "       108.28784028, 108.2683287 , 108.20575413, 108.35286013,\n",
       "       108.3047056 , 108.19295725, 108.2614871 , 108.26670117,\n",
       "       108.26202468, 108.25111705, 108.24936909, 108.24160449,\n",
       "       108.30849232, 108.16442576, 108.24912099, 108.26516495,\n",
       "       108.28445802, 108.38220947, 108.25036744, 108.24566405,\n",
       "       108.30501889, 108.27934372, 108.36659817, 108.36724856,\n",
       "       108.37025958, 108.38655839, 108.35562102, 108.41839317,\n",
       "       108.23892985, 108.2906637 , 108.29594257, 108.30108922,\n",
       "       108.27779588, 108.30997601, 108.38096833, 108.26522974,\n",
       "       108.3304767 , 108.39265764, 108.18025903, 108.3270323 ,\n",
       "       108.21377581, 108.26382193, 108.50877035, 108.34416165,\n",
       "       108.28934459, 108.24686363, 108.27786109, 108.29307876,\n",
       "       108.28093579, 108.37245018, 108.25790054, 108.29631627,\n",
       "       108.26126112, 108.36626188, 108.30383369, 108.24810515,\n",
       "       108.30868199, 108.25872998, 108.24014697, 108.3726732 ,\n",
       "       108.20525993, 108.30831317, 108.24516482, 108.25161477,\n",
       "       108.23080787, 108.24391382, 108.30285365, 108.22370048,\n",
       "       108.21115102, 108.30950734, 108.22187714, 108.3070178 ,\n",
       "       108.30709945, 108.19801492, 108.25623726, 108.2345387 ,\n",
       "       108.32445244, 108.29637948, 108.27674962, 108.22728271,\n",
       "       108.30420106, 108.28411755, 108.34740651, 108.27653274,\n",
       "       108.37843778, 108.27558681, 108.31596854, 108.42366303,\n",
       "       108.28946442, 108.30868705, 108.2830988 , 108.36031277,\n",
       "       108.29621611, 108.36754702, 108.36160653, 108.2870066 ,\n",
       "       108.38513101, 108.32353489, 108.326776  , 108.24592878,\n",
       "       108.25277133, 108.30335501, 108.20159574, 108.29727483,\n",
       "       108.35424533, 108.3073231 , 108.28998436, 108.26045545,\n",
       "       108.3241154 , 108.26411843])"
      ]
     },
     "execution_count": 27,
     "metadata": {},
     "output_type": "execute_result"
    }
   ],
   "source": [
    "y_prediction = LR.predict(x_test)\n",
    "y_prediction"
   ]
  },
  {
   "cell_type": "code",
   "execution_count": 31,
   "metadata": {},
   "outputs": [
    {
     "name": "stderr",
     "output_type": "stream",
     "text": [
      "/Users/hermanoferreira/miniconda3/envs/sr_data/lib/python3.9/site-packages/seaborn/_decorators.py:36: FutureWarning: Pass the following variables as keyword args: x, y. From version 0.12, the only valid positional argument will be `data`, and passing other arguments without an explicit keyword will result in an error or misinterpretation.\n",
      "  warnings.warn(\n"
     ]
    },
    {
     "data": {
      "text/plain": [
       "<AxesSubplot:ylabel='Power'>"
      ]
     },
     "execution_count": 31,
     "metadata": {},
     "output_type": "execute_result"
    },
    {
     "data": {
      "image/png": "[encoded data removed]",
      "text/plain": [
       "<Figure size 432x288 with 1 Axes>"
      ]
     },
     "metadata": {
      "needs_background": "light"
     },
     "output_type": "display_data"
    }
   ],
   "source": [
    "sns.scatterplot(y_prediction, y_test)"
   ]
  },
  {
   "cell_type": "code",
   "execution_count": 28,
   "metadata": {},
   "outputs": [
    {
     "name": "stdout",
     "output_type": "stream",
     "text": [
      "r2 score is  -0.006326661117859622\n",
      "mean_sqrd_error is== 3.0931199277390236\n",
      "root_mean_squared error of is== 1.758726791670333\n"
     ]
    }
   ],
   "source": [
    "score=r2_score(y_test,y_prediction)\n",
    "print('r2 score is ', score)\n",
    "print('mean_sqrd_error is==',mean_squared_error(y_test,y_prediction))\n",
    "print('root_mean_squared error of is==',np.sqrt(mean_squared_error(y_test,y_prediction)))"
   ]
  }
 ],
 "metadata": {
  "interpreter": {
   "hash": "d779cc5b4e4241dfe6cfe1c481ebd10f1e41f982fb7cec14424c2d34cdabee22"
  },
  "kernelspec": {
   "display_name": "Python 3.9.12 ('sr_data')",
   "language": "python",
   "name": "python3"
  },
  "language_info": {
   "codemirror_mode": {
    "name": "ipython",
    "version": 3
   },
   "file_extension": ".py",
   "mimetype": "text/x-python",
   "name": "python",
   "nbconvert_exporter": "python",
   "pygments_lexer": "ipython3",
   "version": "3.9.12"
  },
  "orig_nbformat": 4
 },
 "nbformat": 4,
 "nbformat_minor": 2
}
